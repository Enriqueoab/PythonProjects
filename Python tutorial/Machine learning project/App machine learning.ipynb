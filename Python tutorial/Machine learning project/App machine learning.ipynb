{
 "cells": [
  {
   "cell_type": "code",
   "execution_count": 30,
   "id": "8cab5a4a",
   "metadata": {},
   "outputs": [
    {
     "data": {
      "text/plain": [
       "0.5"
      ]
     },
     "execution_count": 30,
     "metadata": {},
     "output_type": "execute_result"
    }
   ],
   "source": [
    "import pandas as pa\n",
    "from sklearn.tree import DecisionTreeClassifier\n",
    "from sklearn.model_selection import train_test_split #To split our data set into 2 sets (training and testing)\n",
    "from sklearn.metrics import accuracy_score #To calculate the accuracy\n",
    "\n",
    "\n",
    "mu_data = pa.read_csv('music.csv') #Import our data set\n",
    "#To create the input data and output data we remove the column we'll use as output( no modify the original data set)\n",
    "X = mu_data.drop(columns=['genre']) # Table without genre, input\n",
    "Y = mu_data['genre']                # Just the genre column, output\n",
    "# The third value is for set the size of our dataset, return a tuple\n",
    "x_train, x_test,y_train, y_test = train_test_split(X,Y,test_size=0.2)\n",
    "\n",
    "model = DecisionTreeClassifier() #Creat a model\n",
    "model.fit(x_train,y_train)   # It needs the output and input to learn the patterns in the data, train the model\n",
    "#To calculate the accuracy we compare 'predictions' with the values of the output set (y_test)\n",
    "predictions = model.predict(x_test)\n",
    "\n",
    "score = accuracy_score(y_test,predictions)\n",
    "score"
   ]
  },
  {
   "cell_type": "code",
   "execution_count": 43,
   "id": "35a86c81",
   "metadata": {},
   "outputs": [
    {
     "data": {
      "text/plain": [
       "array(['HipHop'], dtype=object)"
      ]
     },
     "execution_count": 43,
     "metadata": {},
     "output_type": "execute_result"
    }
   ],
   "source": [
    "import pandas as pa\n",
    "from sklearn.tree import DecisionTreeClassifier\n",
    "import joblib \n",
    "\n",
    "joblib.load('music-recommender.joblib') # to store our train model in a file\n",
    "predictions = model.predict([[21,1]])\n",
    "predictions"
   ]
  },
  {
   "cell_type": "code",
   "execution_count": 46,
   "id": "f1f66cf5",
   "metadata": {},
   "outputs": [],
   "source": [
    "import pandas as pa\n",
    "from sklearn.tree import DecisionTreeClassifier\n",
    "from sklearn import tree #Object with a method for exporting our decision tree in a graphical format\n",
    "\n",
    "mu_data = pa.read_csv('music.csv') #Import our data set\n",
    "X = mu_data.drop(columns=['genre']) # Create the input\n",
    "Y = mu_data['genre']                # Create the output\n",
    "\n",
    "model = DecisionTreeClassifier() #Creat a model\n",
    "model.fit(X,Y)\n",
    "tree.export_graphviz(model, out_file='music-recommender.dot',\n",
    "                     feature_names=['age','gender'],\n",
    "                     class_names=sorted(Y.unique()),\n",
    "                     label='all',\n",
    "                     rounded=True,\n",
    "                     filled=True)"
   ]
  }
 ],
 "metadata": {
  "kernelspec": {
   "display_name": "Python 3",
   "language": "python",
   "name": "python3"
  },
  "language_info": {
   "codemirror_mode": {
    "name": "ipython",
    "version": 3
   },
   "file_extension": ".py",
   "mimetype": "text/x-python",
   "name": "python",
   "nbconvert_exporter": "python",
   "pygments_lexer": "ipython3",
   "version": "3.8.8"
  }
 },
 "nbformat": 4,
 "nbformat_minor": 5
}
